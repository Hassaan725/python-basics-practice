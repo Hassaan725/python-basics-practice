{
  "nbformat": 4,
  "nbformat_minor": 0,
  "metadata": {
    "colab": {
      "provenance": []
    },
    "kernelspec": {
      "name": "python3",
      "display_name": "Python 3"
    },
    "language_info": {
      "name": "python"
    }
  },
  "cells": [
    {
      "cell_type": "code",
      "execution_count": null,
      "metadata": {
        "colab": {
          "base_uri": "https://localhost:8080/"
        },
        "id": "Gr4dy9wqw6qX",
        "outputId": "f5e2d39d-3dfd-4ae9-c6d2-58ceaca53b2d"
      },
      "outputs": [
        {
          "output_type": "stream",
          "name": "stdout",
          "text": [
            "['False', 'None', 'True', 'and', 'as', 'assert', 'async', 'await', 'break', 'class', 'continue', 'def', 'del', 'elif', 'else', 'except', 'finally', 'for', 'from', 'global', 'if', 'import', 'in', 'is', 'lambda', 'nonlocal', 'not', 'or', 'pass', 'raise', 'return', 'try', 'while', 'with', 'yield']\n"
          ]
        }
      ],
      "source": [
        "import keyword as kw\n",
        "\n",
        "print (kw.kwlist)\n"
      ]
    },
    {
      "cell_type": "code",
      "source": [
        "print (len(kw.kwlist))"
      ],
      "metadata": {
        "colab": {
          "base_uri": "https://localhost:8080/"
        },
        "id": "-k2NpvS1xX82",
        "outputId": "bda771d8-b0a5-41b2-b63f-d598fc0a4d91"
      },
      "execution_count": null,
      "outputs": [
        {
          "output_type": "stream",
          "name": "stdout",
          "text": [
            "35\n"
          ]
        }
      ]
    },
    {
      "cell_type": "code",
      "source": [
        "a=15\n",
        "print(\"value of a is:\",a)"
      ],
      "metadata": {
        "colab": {
          "base_uri": "https://localhost:8080/"
        },
        "id": "uSQGa6Rhx7du",
        "outputId": "8ecf71e2-5758-417b-a2cb-bd1a87f31e32"
      },
      "execution_count": null,
      "outputs": [
        {
          "output_type": "stream",
          "name": "stdout",
          "text": [
            "value of a is: 15\n"
          ]
        }
      ]
    },
    {
      "cell_type": "code",
      "source": [
        "A=25\n",
        "B=32\n",
        "print (\"the value of A is {} and B is {}\".format(A,B))"
      ],
      "metadata": {
        "colab": {
          "base_uri": "https://localhost:8080/"
        },
        "id": "OAw8OB9ny9Ml",
        "outputId": "12266458-3811-46ff-e0e2-0e6b5fa5410c"
      },
      "execution_count": null,
      "outputs": [
        {
          "output_type": "stream",
          "name": "stdout",
          "text": [
            "the value of A is 25 and B is 32\n"
          ]
        }
      ]
    },
    {
      "cell_type": "code",
      "source": [
        "A=25\n",
        "B=32\n",
        "C=43.5\n",
        "print (\"the value of A is {}, B is {} and C is {}\".format(A,B,C))"
      ],
      "metadata": {
        "colab": {
          "base_uri": "https://localhost:8080/"
        },
        "id": "lBSfLe_pz4q1",
        "outputId": "ece81cdc-dbd0-41b8-e289-c1075b8ec5cf"
      },
      "execution_count": null,
      "outputs": [
        {
          "output_type": "stream",
          "name": "stdout",
          "text": [
            "the value of A is 25, B is 32 and C is 43.5\n"
          ]
        }
      ]
    },
    {
      "cell_type": "code",
      "source": [
        "A=5.4\n",
        "B=2.5\n",
        "\n",
        "print (\"the value of A is {1} and B is {0}\".format(A,B))"
      ],
      "metadata": {
        "colab": {
          "base_uri": "https://localhost:8080/"
        },
        "id": "IY3FEO2h0Jgf",
        "outputId": "35df8caa-1186-425c-f01f-be8e3e90b56e"
      },
      "execution_count": null,
      "outputs": [
        {
          "output_type": "stream",
          "name": "stdout",
          "text": [
            "the value of A is 2.5 and B is 5.4\n"
          ]
        }
      ]
    },
    {
      "cell_type": "code",
      "source": [
        "print (\"Hello {name}, {greeting}\".format(name=\"Alex\", greeting =\"Good Luck!\"))"
      ],
      "metadata": {
        "colab": {
          "base_uri": "https://localhost:8080/"
        },
        "id": "Px4pzUWt1EJG",
        "outputId": "b91ee5ba-05bc-457d-ac10-931cf657b534"
      },
      "execution_count": null,
      "outputs": [
        {
          "output_type": "stream",
          "name": "stdout",
          "text": [
            "Hello Alex, Good Luck!\n"
          ]
        }
      ]
    },
    {
      "cell_type": "code",
      "source": [
        "print  (\"The story of  {0},{1},{other}\".format (\"Vinay\",\"Sir\",other=\"kgcoding\"))"
      ],
      "metadata": {
        "colab": {
          "base_uri": "https://localhost:8080/"
        },
        "id": "Clsdy_sY1fDV",
        "outputId": "fdb859d4-2a1a-455b-b05c-a4a13ed74012"
      },
      "execution_count": null,
      "outputs": [
        {
          "output_type": "stream",
          "name": "stdout",
          "text": [
            "The story of  Vinay,Sir,kgcoding\n"
          ]
        }
      ]
    },
    {
      "cell_type": "code",
      "source": [
        "a=2; b=3; c=6; d=7 ;e=1\n",
        "print(a,b,c,d,e)"
      ],
      "metadata": {
        "colab": {
          "base_uri": "https://localhost:8080/"
        },
        "id": "xjyOgxxH15Wd",
        "outputId": "c10dcf0a-b23b-4fae-9a2e-d968522edeba"
      },
      "execution_count": null,
      "outputs": [
        {
          "output_type": "stream",
          "name": "stdout",
          "text": [
            "2 3 6 7 1\n"
          ]
        }
      ]
    },
    {
      "cell_type": "code",
      "source": [
        "a=float(9.6)\n",
        "print (a)"
      ],
      "metadata": {
        "colab": {
          "base_uri": "https://localhost:8080/"
        },
        "id": "U9kl173a2RLc",
        "outputId": "b93f819c-8563-4a1c-e31b-c0f9fac94026"
      },
      "execution_count": null,
      "outputs": [
        {
          "output_type": "stream",
          "name": "stdout",
          "text": [
            "9.6\n"
          ]
        }
      ]
    },
    {
      "cell_type": "code",
      "source": [
        "a,b,c,d,e = 1,2,3,8,4\n",
        "print (a,b,c,d,e)"
      ],
      "metadata": {
        "colab": {
          "base_uri": "https://localhost:8080/"
        },
        "id": "RBhQapyr2crl",
        "outputId": "f7b55ac8-193c-40d5-cf24-1d7f483990c4"
      },
      "execution_count": null,
      "outputs": [
        {
          "output_type": "stream",
          "name": "stdout",
          "text": [
            "1 2 3 8 4\n"
          ]
        }
      ]
    },
    {
      "cell_type": "code",
      "source": [
        "n,k=map(int, input().split())\n",
        "print (n)\n",
        "print (k)"
      ],
      "metadata": {
        "colab": {
          "base_uri": "https://localhost:8080/"
        },
        "id": "q3IdhbZo3ukc",
        "outputId": "77fed3a1-6a36-4bfc-c0ad-8796d4208eb5"
      },
      "execution_count": null,
      "outputs": [
        {
          "output_type": "stream",
          "name": "stdout",
          "text": [
            "10 20\n",
            "10\n",
            "20\n"
          ]
        }
      ]
    },
    {
      "cell_type": "code",
      "source": [
        "n,k=map(int, input().split(\",\"))\n",
        "print (n)\n",
        "print (k)"
      ],
      "metadata": {
        "colab": {
          "base_uri": "https://localhost:8080/"
        },
        "id": "exsu7M0N4jxU",
        "outputId": "09ffe0a2-5be6-4b42-aab4-68a3856b8581"
      },
      "execution_count": null,
      "outputs": [
        {
          "output_type": "stream",
          "name": "stdout",
          "text": [
            "10,20\n",
            "10\n",
            "20\n"
          ]
        }
      ]
    },
    {
      "cell_type": "code",
      "source": [],
      "metadata": {
        "id": "IAmczh5s41X7"
      },
      "execution_count": null,
      "outputs": []
    }
  ]
}